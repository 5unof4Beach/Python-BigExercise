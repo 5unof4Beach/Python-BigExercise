{
 "cells": [
  {
   "cell_type": "code",
   "execution_count": 25,
   "metadata": {},
   "outputs": [],
   "source": [
    "import numpy\n",
    "import math"
   ]
  },
  {
   "cell_type": "code",
   "execution_count": 26,
   "metadata": {},
   "outputs": [
    {
     "name": "stdout",
     "output_type": "stream",
     "text": [
      "[0 0 0 0 0 0 0 0 0 0 0 0 0 0 0 0]\n"
     ]
    }
   ],
   "source": [
    "grid = numpy.zeros((4, 4), dtype=int)\n",
    "print(grid.flatten())\n"
   ]
  },
  {
   "cell_type": "code",
   "execution_count": 27,
   "metadata": {},
   "outputs": [],
   "source": [
    "def move(flattenedGrid, key):\n",
    "    # temp = grid\n",
    "    size = int(math.sqrt(len(flattenedGrid)))\n",
    "    print(size)\n",
    "\n",
    "    grid = numpy.zeros((size, size), dtype=int)\n",
    "\n",
    "    for i in range(size):\n",
    "        grid[i][:] = flattenedGrid[i*size : size*(i + 1)]\n",
    "\n",
    "    for i in range(size):\n",
    "        flipped = False\n",
    "        if key in 'lr':  # nếu nhập vào là l hoặc r thì lấy hàng\n",
    "            row = grid[i, :]\n",
    "        else:\n",
    "            row = grid[:, i]  # u hoăc d thì lấy cột\n",
    "\n",
    "        if key in 'rd':  # nếu là r hoặc d thì lật ngược list để có thể tận dụng hàm get num\n",
    "            flipped = True\n",
    "            row = row[::-1]\n",
    "\n",
    "        notZeros = _get_num(row)  # list những số != 0 trong hàng\n",
    "        newRow = numpy.zeros_like(row)  # tạo một hàng mới chỉ chứa số 0 có kích cỡ giống hàng cũ\n",
    "        newRow[:len(notZeros)] = notZeros  # gắn các giá trị != 0 vào mảng mới\n",
    "\n",
    "        if flipped:\n",
    "            newRow = newRow[::-1]\n",
    "\n",
    "        if key in 'lr':\n",
    "            grid[i, :] = newRow\n",
    "        else:\n",
    "            grid[:, i] = newRow\n",
    "\n",
    "    return grid.flatten()\n",
    "\n",
    "def _get_num(row):\n",
    "    notZeros = row[row != 0]\n",
    "    res = []\n",
    "    skip = False\n",
    "    for i in range(len(notZeros)):\n",
    "        if skip:\n",
    "            skip = False\n",
    "            continue\n",
    "        if i != len(notZeros) - 1 and notZeros[i] == notZeros[i + 1]:  # nếu 2 số liền nhau mà giống nhau thì cộng lại và cho vào mảng mới\n",
    "            sum = notZeros[i] * 2\n",
    "            res.append(sum)\n",
    "            skip = True\n",
    "        else:\n",
    "            res.append(notZeros[i])\n",
    "    return res"
   ]
  },
  {
   "cell_type": "code",
   "execution_count": 28,
   "metadata": {},
   "outputs": [
    {
     "name": "stdout",
     "output_type": "stream",
     "text": [
      "[[1 1 1 1]\n",
      " [2 2 2 2]\n",
      " [2 2 2 2]\n",
      " [2 2 2 2]]\n"
     ]
    }
   ],
   "source": [
    "test = numpy.full((4,4), 2)\n",
    "\n",
    "test3 = [1,1,1,1]\n",
    "\n",
    "test[0][:] = test3[0:4]\n",
    "print(test)"
   ]
  },
  {
   "cell_type": "code",
   "execution_count": 57,
   "metadata": {},
   "outputs": [
    {
     "name": "stdout",
     "output_type": "stream",
     "text": [
      "[1, 4]\n",
      "2 0 9 8 0\n"
     ]
    }
   ],
   "source": [
    "grid = numpy.array([\n",
    "    [2,0,4,0],\n",
    "    [2,0,4,5],\n",
    "    [2,0,4,5],\n",
    "    [2,0,4,5]\n",
    "    ])\n",
    "\n",
    "grid2 = numpy.array([2,0,9,8,0])\n",
    "\n",
    "# unoccupied_pos = list(zip(*numpy.where(grid2 == 0)))\n",
    "unoccupied_pos = list(*numpy.where(grid2 == 0))\n",
    "\n",
    "\n",
    "print(unoccupied_pos)\n",
    "print(*grid2)\n",
    "# for i in unoccupied_pos:\n",
    "# print(grid[(0,1)])"
   ]
  },
  {
   "cell_type": "code",
   "execution_count": null,
   "metadata": {},
   "outputs": [],
   "source": [
    "maxValPos = list(*numpy.where(grid2 == max(grid2)))"
   ]
  }
 ],
 "metadata": {
  "interpreter": {
   "hash": "31f2aee4e71d21fbe5cf8b01ff0e069b9275f58929596ceb00d14d90e3e16cd6"
  },
  "kernelspec": {
   "display_name": "Python 3.8.10 64-bit",
   "language": "python",
   "name": "python3"
  },
  "language_info": {
   "codemirror_mode": {
    "name": "ipython",
    "version": 3
   },
   "file_extension": ".py",
   "mimetype": "text/x-python",
   "name": "python",
   "nbconvert_exporter": "python",
   "pygments_lexer": "ipython3",
   "version": "3.8.10"
  },
  "orig_nbformat": 4
 },
 "nbformat": 4,
 "nbformat_minor": 2
}
