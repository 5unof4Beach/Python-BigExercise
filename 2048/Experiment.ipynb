{
 "cells": [
  {
   "cell_type": "code",
   "execution_count": 62,
   "metadata": {},
   "outputs": [],
   "source": [
    "import numpy"
   ]
  },
  {
   "cell_type": "code",
   "execution_count": 63,
   "metadata": {},
   "outputs": [
    {
     "name": "stdout",
     "output_type": "stream",
     "text": [
      "[0 0 0 0 0 0 0 0 0 0 0 0 0 0 0 0]\n"
     ]
    }
   ],
   "source": [
    "grid = numpy.zeros((4, 4), dtype=int)\n",
    "print(grid.flatten())\n"
   ]
  },
  {
   "cell_type": "code",
   "execution_count": 64,
   "metadata": {},
   "outputs": [],
   "source": [
    "def swipeGrid2(flattenedGrid, key):\n",
    "    # temp = grid\n",
    "    grid = numpy.zeros((4, 4), dtype=int)\n",
    "\n",
    "    for i in range(4):\n",
    "        grid[i,:] = flattenedGrid[i*4:i*4+4]\n",
    "\n",
    "    temp = grid\n",
    "\n",
    "    # grid = flattenedGrid\n",
    "    # temp = flattenedGrid\n",
    "\n",
    "    for i in range(4):\n",
    "        flipped = False\n",
    "        if key in 'lr':  # nếu nhập vào là l hoặc r thì lấy hàng\n",
    "            this_row = grid[i, :]\n",
    "        else:\n",
    "            this_row = grid[:, i]  # u hoăc d thì lấy cột\n",
    "\n",
    "        if key in 'rd':  # nếu là r hoặc d thì lật ngược list để có thể tận dụng hàm get num\n",
    "            flipped = True\n",
    "            this_row = this_row[::-1]\n",
    "\n",
    "        this_n = _get_num(this_row)  # list những số != 0 trong hàng\n",
    "        # print(this_n)\n",
    "        new_this_row = numpy.zeros_like(this_row)  # tạo một hàng mới chỉ chứa số 0 có kích cỡ giống hàng cũ\n",
    "        new_this_row[:len(this_n)] = this_n  # gắn các giá trị != 0 vào mảng mới\n",
    "\n",
    "        if flipped:\n",
    "            new_this_row = new_this_row[::-1]\n",
    "\n",
    "        if key in 'lr':\n",
    "            # grid[i, :] = new_this_row\n",
    "            temp[i, :] = new_this_row\n",
    "        else:\n",
    "            # grid[:, i] = new_this_row\n",
    "            temp[:, i] = new_this_row\n",
    "\n",
    "    return temp.flatten()\n",
    "\n",
    "def _get_num(row):\n",
    "    this_n = row[row != 0]\n",
    "    res = []\n",
    "    skip = False\n",
    "    for i in range(len(this_n)):\n",
    "        if skip:\n",
    "            skip = False\n",
    "            continue\n",
    "        if i != len(this_n) - 1 and this_n[i] == this_n[i + 1]:  # nếu 2 số liền nhau mà giống nhau thì cộng lại và cho vào mảng mới\n",
    "            sum = this_n[i] * 2\n",
    "            res.append(sum)\n",
    "            skip = True\n",
    "        else:\n",
    "            res.append(this_n[i])\n",
    "    return res"
   ]
  },
  {
   "cell_type": "code",
   "execution_count": 73,
   "metadata": {},
   "outputs": [
    {
     "name": "stdout",
     "output_type": "stream",
     "text": [
      "[[1 1 1 1]\n",
      " [2 2 2 2]\n",
      " [2 2 2 2]\n",
      " [2 2 2 2]]\n"
     ]
    }
   ],
   "source": [
    "test = numpy.full((4,4), 2)\n",
    "\n",
    "test3 = [1,1,1,1]\n",
    "\n",
    "test[0][:] = test3[0:4]\n",
    "print(test)"
   ]
  },
  {
   "cell_type": "code",
   "execution_count": 66,
   "metadata": {},
   "outputs": [
    {
     "ename": "SyntaxError",
     "evalue": "invalid syntax (3754652472.py, line 1)",
     "output_type": "error",
     "traceback": [
      "\u001b[0;36m  Input \u001b[0;32mIn [66]\u001b[0;36m\u001b[0m\n\u001b[0;31m    test2 = [[0 0 0 0]\u001b[0m\n\u001b[0m                ^\u001b[0m\n\u001b[0;31mSyntaxError\u001b[0m\u001b[0;31m:\u001b[0m invalid syntax\n"
     ]
    }
   ],
   "source": [
    "test2 = [[0 0 0 0]\n",
    " [0 0 0 0]\n",
    " [0 0 0 0]\n",
    " [0 0 0 0]]\n",
    "print(test2)"
   ]
  },
  {
   "cell_type": "code",
   "execution_count": 69,
   "metadata": {},
   "outputs": [
    {
     "ename": "IndexError",
     "evalue": "too many indices for array: array is 1-dimensional, but 2 were indexed",
     "output_type": "error",
     "traceback": [
      "\u001b[0;31m---------------------------------------------------------------------------\u001b[0m",
      "\u001b[0;31mIndexError\u001b[0m                                Traceback (most recent call last)",
      "\u001b[1;32m/home/duc/Desktop/Python-BigExercise/2048/Experiment.ipynb Cell 6'\u001b[0m in \u001b[0;36m<cell line: 1>\u001b[0;34m()\u001b[0m\n\u001b[0;32m----> <a href='vscode-notebook-cell:/home/duc/Desktop/Python-BigExercise/2048/Experiment.ipynb#ch0000004?line=0'>1</a>\u001b[0m \u001b[39mprint\u001b[39m(swipeGrid2(test\u001b[39m.\u001b[39;49mflatten(), \u001b[39m'\u001b[39;49m\u001b[39ml\u001b[39;49m\u001b[39m'\u001b[39;49m))\n",
      "\u001b[1;32m/home/duc/Desktop/Python-BigExercise/2048/Experiment.ipynb Cell 3'\u001b[0m in \u001b[0;36mswipeGrid2\u001b[0;34m(flattenedGrid, key)\u001b[0m\n\u001b[1;32m     <a href='vscode-notebook-cell:/home/duc/Desktop/Python-BigExercise/2048/Experiment.ipynb#ch0000002?line=13'>14</a>\u001b[0m flipped \u001b[39m=\u001b[39m \u001b[39mFalse\u001b[39;00m\n\u001b[1;32m     <a href='vscode-notebook-cell:/home/duc/Desktop/Python-BigExercise/2048/Experiment.ipynb#ch0000002?line=14'>15</a>\u001b[0m \u001b[39mif\u001b[39;00m key \u001b[39min\u001b[39;00m \u001b[39m'\u001b[39m\u001b[39mlr\u001b[39m\u001b[39m'\u001b[39m:  \u001b[39m# nếu nhập vào là l hoặc r thì lấy hàng\u001b[39;00m\n\u001b[0;32m---> <a href='vscode-notebook-cell:/home/duc/Desktop/Python-BigExercise/2048/Experiment.ipynb#ch0000002?line=15'>16</a>\u001b[0m     this_row \u001b[39m=\u001b[39m grid[i, :]\n\u001b[1;32m     <a href='vscode-notebook-cell:/home/duc/Desktop/Python-BigExercise/2048/Experiment.ipynb#ch0000002?line=16'>17</a>\u001b[0m \u001b[39melse\u001b[39;00m:\n\u001b[1;32m     <a href='vscode-notebook-cell:/home/duc/Desktop/Python-BigExercise/2048/Experiment.ipynb#ch0000002?line=17'>18</a>\u001b[0m     this_row \u001b[39m=\u001b[39m grid[:, i]  \u001b[39m# u hoăc d thì lấy cột\u001b[39;00m\n",
      "\u001b[0;31mIndexError\u001b[0m: too many indices for array: array is 1-dimensional, but 2 were indexed"
     ]
    }
   ],
   "source": [
    "print(swipeGrid2(test.flatten(), 'l'))"
   ]
  }
 ],
 "metadata": {
  "interpreter": {
   "hash": "31f2aee4e71d21fbe5cf8b01ff0e069b9275f58929596ceb00d14d90e3e16cd6"
  },
  "kernelspec": {
   "display_name": "Python 3.8.10 64-bit",
   "language": "python",
   "name": "python3"
  },
  "language_info": {
   "codemirror_mode": {
    "name": "ipython",
    "version": 3
   },
   "file_extension": ".py",
   "mimetype": "text/x-python",
   "name": "python",
   "nbconvert_exporter": "python",
   "pygments_lexer": "ipython3",
   "version": "3.8.10"
  },
  "orig_nbformat": 4
 },
 "nbformat": 4,
 "nbformat_minor": 2
}
