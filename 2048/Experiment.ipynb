{
 "cells": [
  {
   "cell_type": "code",
   "execution_count": 62,
   "metadata": {},
   "outputs": [],
   "source": [
    "import numpy"
   ]
  },
  {
   "cell_type": "code",
   "execution_count": 63,
   "metadata": {},
   "outputs": [
    {
     "name": "stdout",
     "output_type": "stream",
     "text": [
      "[0 0 0 0 0 0 0 0 0 0 0 0 0 0 0 0]\n"
     ]
    }
   ],
   "source": [
    "grid = numpy.zeros((4, 4), dtype=int)\n",
    "print(grid.flatten())\n"
   ]
  },
  {
   "cell_type": "code",
   "execution_count": 78,
   "metadata": {},
   "outputs": [],
   "source": [
    "def swipeGrid2(flattenedGrid, key):\n",
    "    # temp = grid\n",
    "    grid = numpy.zeros((4, 4), dtype=int)\n",
    "\n",
    "    for i in range(4):\n",
    "        grid[i][:] = flattenedGrid[i*4:i*4+4]\n",
    "\n",
    "    print(grid)\n",
    "\n",
    "    temp = grid\n",
    "\n",
    "    # grid = flattenedGrid\n",
    "    # temp = flattenedGrid\n",
    "\n",
    "    for i in range(4):\n",
    "        flipped = False\n",
    "        if key in 'lr':  # nếu nhập vào là l hoặc r thì lấy hàng\n",
    "            this_row = grid[i, :]\n",
    "        else:\n",
    "            this_row = grid[:, i]  # u hoăc d thì lấy cột\n",
    "\n",
    "        if key in 'rd':  # nếu là r hoặc d thì lật ngược list để có thể tận dụng hàm get num\n",
    "            flipped = True\n",
    "            this_row = this_row[::-1]\n",
    "\n",
    "        this_n = _get_num(this_row)  # list những số != 0 trong hàng\n",
    "        # print(this_n)\n",
    "        new_this_row = numpy.zeros_like(this_row)  # tạo một hàng mới chỉ chứa số 0 có kích cỡ giống hàng cũ\n",
    "        new_this_row[:len(this_n)] = this_n  # gắn các giá trị != 0 vào mảng mới\n",
    "\n",
    "        if flipped:\n",
    "            new_this_row = new_this_row[::-1]\n",
    "\n",
    "        if key in 'lr':\n",
    "            # grid[i, :] = new_this_row\n",
    "            temp[i, :] = new_this_row\n",
    "        else:\n",
    "            # grid[:, i] = new_this_row\n",
    "            temp[:, i] = new_this_row\n",
    "\n",
    "    return temp.flatten()\n",
    "\n",
    "def _get_num(row):\n",
    "    this_n = row[row != 0]\n",
    "    res = []\n",
    "    skip = False\n",
    "    for i in range(len(this_n)):\n",
    "        if skip:\n",
    "            skip = False\n",
    "            continue\n",
    "        if i != len(this_n) - 1 and this_n[i] == this_n[i + 1]:  # nếu 2 số liền nhau mà giống nhau thì cộng lại và cho vào mảng mới\n",
    "            sum = this_n[i] * 2\n",
    "            res.append(sum)\n",
    "            skip = True\n",
    "        else:\n",
    "            res.append(this_n[i])\n",
    "    return res"
   ]
  },
  {
   "cell_type": "code",
   "execution_count": 73,
   "metadata": {},
   "outputs": [
    {
     "name": "stdout",
     "output_type": "stream",
     "text": [
      "[[1 1 1 1]\n",
      " [2 2 2 2]\n",
      " [2 2 2 2]\n",
      " [2 2 2 2]]\n"
     ]
    }
   ],
   "source": [
    "test = numpy.full((4,4), 2)\n",
    "\n",
    "test3 = [1,1,1,1]\n",
    "\n",
    "test[0][:] = test3[0:4]\n",
    "print(test)"
   ]
  },
  {
   "cell_type": "code",
   "execution_count": 76,
   "metadata": {},
   "outputs": [
    {
     "ename": "SyntaxError",
     "evalue": "invalid syntax (3754652472.py, line 1)",
     "output_type": "error",
     "traceback": [
      "\u001b[0;36m  Input \u001b[0;32mIn [76]\u001b[0;36m\u001b[0m\n\u001b[0;31m    test2 = [[0 0 0 0]\u001b[0m\n\u001b[0m                ^\u001b[0m\n\u001b[0;31mSyntaxError\u001b[0m\u001b[0;31m:\u001b[0m invalid syntax\n"
     ]
    }
   ],
   "source": [
    "test2 = [[0 0 0 0]\n",
    " [0 0 0 0]\n",
    " [0 0 0 0]\n",
    " [0 0 0 0]]\n",
    "print(test2)"
   ]
  },
  {
   "cell_type": "code",
   "execution_count": 79,
   "metadata": {},
   "outputs": [
    {
     "name": "stdout",
     "output_type": "stream",
     "text": [
      "[[1 1 1 1]\n",
      " [2 2 2 2]\n",
      " [2 2 2 2]\n",
      " [2 2 2 2]]\n",
      "[2 2 0 0 4 4 0 0 4 4 0 0 4 4 0 0]\n"
     ]
    }
   ],
   "source": [
    "print(swipeGrid2(test.flatten(), 'l'))"
   ]
  }
 ],
 "metadata": {
  "interpreter": {
   "hash": "31f2aee4e71d21fbe5cf8b01ff0e069b9275f58929596ceb00d14d90e3e16cd6"
  },
  "kernelspec": {
   "display_name": "Python 3.8.10 64-bit",
   "language": "python",
   "name": "python3"
  },
  "language_info": {
   "codemirror_mode": {
    "name": "ipython",
    "version": 3
   },
   "file_extension": ".py",
   "mimetype": "text/x-python",
   "name": "python",
   "nbconvert_exporter": "python",
   "pygments_lexer": "ipython3",
   "version": "3.8.10"
  },
  "orig_nbformat": 4
 },
 "nbformat": 4,
 "nbformat_minor": 2
}
